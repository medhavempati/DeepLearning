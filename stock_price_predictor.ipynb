{
 "cells": [
  {
   "cell_type": "code",
   "execution_count": 148,
   "id": "9c395ab6",
   "metadata": {},
   "outputs": [],
   "source": [
    "import pandas as pd\n",
    "import numpy as np\n",
    "import math\n",
    "import datetime\n",
    "import yfinance as yf\n",
    "\n",
    "from sklearn import linear_model\n",
    "from sklearn.model_selection import train_test_split\n",
    "from sklearn.model_selection import StratifiedKFold\n",
    "\n",
    "from keras.layers.core import Dense, Activation, Dropout\n",
    "from keras.layers.recurrent import LSTM\n",
    "from keras.models import Sequential\n",
    "from keras.metrics import mean_squared_error\n",
    "\n",
    "import matplotlib.pyplot as plt"
   ]
  },
  {
   "cell_type": "code",
   "execution_count": 2,
   "id": "80ebcb6e",
   "metadata": {},
   "outputs": [],
   "source": [
    "# Retrieve data"
   ]
  },
  {
   "cell_type": "code",
   "execution_count": 3,
   "id": "10d3d29c",
   "metadata": {},
   "outputs": [],
   "source": [
    "def get_ticker_data(symbol, period):\n",
    "    '''\n",
    "        Arguments:\n",
    "            symbol --> Security symbol (str)\n",
    "            period --> number of years (past x years) (int)\n",
    "    '''   \n",
    "    symbol = symbol.upper()\n",
    "    period = str(period)+'y'\n",
    "\n",
    "    stocks = yf.Ticker(symbol).history(period=period)    \n",
    "    df = pd.DataFrame(stocks)\n",
    "    return df"
   ]
  },
  {
   "cell_type": "code",
   "execution_count": 150,
   "id": "177689b1",
   "metadata": {},
   "outputs": [],
   "source": [
    "# Clean/Modify Data"
   ]
  },
  {
   "cell_type": "code",
   "execution_count": 9,
   "id": "79fd39a7",
   "metadata": {},
   "outputs": [],
   "source": [
    "def clean_data(df):\n",
    "    ind = []\n",
    "    open_col = []\n",
    "    high = []\n",
    "    low = []\n",
    "    close = []\n",
    "    vol = []\n",
    "    \n",
    "    for i in range(len(df)):\n",
    "        open_col.append(df['Open'][i])\n",
    "        high.append(df['High'][i])\n",
    "        low.append(df['Low'][i])\n",
    "        close.append(df['Close'][i])\n",
    "        vol.append(df['Volume'][i])\n",
    "        \n",
    "    stocks = pd.DataFrame()\n",
    "    stocks['Open'] = open_col\n",
    "    stocks['High'] = high\n",
    "    stocks['Low'] = low\n",
    "    stocks['Close'] = close\n",
    "    stocks['Volume'] = vol\n",
    "    \n",
    "    return stocks"
   ]
  },
  {
   "cell_type": "code",
   "execution_count": 12,
   "id": "3d85c9a0",
   "metadata": {},
   "outputs": [],
   "source": [
    "def normalize_data(df, columns):\n",
    "    for column in columns:\n",
    "        temp = []\n",
    "        min_value = min(df[column])\n",
    "        max_value = max(df[column])\n",
    "        for i in range(len(df)):\n",
    "            temp.append((df[column][i] - min_value) / (max_value - min_value))\n",
    "        df[column] = temp\n",
    "    return df\n",
    "            "
   ]
  },
  {
   "cell_type": "code",
   "execution_count": 149,
   "id": "949a1237",
   "metadata": {},
   "outputs": [],
   "source": [
    "# Prepare Data For Model"
   ]
  },
  {
   "cell_type": "code",
   "execution_count": 45,
   "id": "760a058a",
   "metadata": {},
   "outputs": [],
   "source": [
    "def prepare_sets(df):\n",
    "    y = pd.DataFrame()\n",
    "    y['y'] = df['Close']\n",
    "    y = y.to_numpy()\n",
    "    \n",
    "    x = df.drop(['Close'], axis=1)\n",
    "    x = x.to_numpy()\n",
    "    return x, y"
   ]
  },
  {
   "cell_type": "code",
   "execution_count": 64,
   "id": "b6a5206c",
   "metadata": {},
   "outputs": [],
   "source": [
    "def split_data(x, y, prediction_period=1, sequence_length=50, test_data_size=0.2):\n",
    "    test_data_cut = int(test_data_size * len(x)) + sequence_length + 1\n",
    "    \n",
    "    # Training data\n",
    "    X_train = x[0:-prediction_period - test_data_cut]\n",
    "    y_train = y[prediction_period:-test_data_cut]\n",
    "    \n",
    "    # Test data\n",
    "    X_test = x[-test_data_cut : -prediction_period]\n",
    "    y_test = y[prediction_period - test_data_cut:]\n",
    "    \n",
    "    return X_train, y_train, X_test, y_test"
   ]
  },
  {
   "cell_type": "code",
   "execution_count": 58,
   "id": "2d1f5ccf",
   "metadata": {},
   "outputs": [],
   "source": [
    "def prepare_sequences(inputs, outputs, sequence_length=50):\n",
    "    x = []\n",
    "    y = []\n",
    "    \n",
    "    for i in range(len(inputs)-sequence_length):\n",
    "        x.append(inputs[i:i+sequence_length])\n",
    "        y.append(outputs[i+sequence_length])\n",
    "        \n",
    "    return np.asarray(x), np.asarray(y)"
   ]
  },
  {
   "cell_type": "code",
   "execution_count": 151,
   "id": "cf896572",
   "metadata": {},
   "outputs": [],
   "source": [
    "# LSTM Model"
   ]
  },
  {
   "cell_type": "code",
   "execution_count": 20,
   "id": "05d5da10",
   "metadata": {},
   "outputs": [],
   "source": [
    "def mean_squared_error(outputs, targets):\n",
    "    squares_sum = 0\n",
    "    for i in range(len(outputs)):\n",
    "        squares_sum += (output[i] - targets[i])**2\n",
    "    mse = float(squares_sum/len(outputs))\n",
    "    return mse"
   ]
  },
  {
   "cell_type": "code",
   "execution_count": 84,
   "id": "8cb4c1db",
   "metadata": {},
   "outputs": [],
   "source": [
    "def lstm(input_dim, output_dim):\n",
    "    print(f'{input_dim}, {output_dim}')\n",
    "    model = Sequential()\n",
    "    model.add(LSTM(\n",
    "        input_shape = (None, input_dim),\n",
    "        units = output_dim,\n",
    "        return_sequences=True))\n",
    "    model.add(LSTM(\n",
    "        100, \n",
    "        return_sequences=False))\n",
    "    model.add(Dense(units=1))\n",
    "    model.add(Activation('linear'))\n",
    "    return model"
   ]
  },
  {
   "cell_type": "code",
   "execution_count": 119,
   "id": "e79ee22e",
   "metadata": {},
   "outputs": [],
   "source": [
    "def lstm_updated(input_dim, output_dim):\n",
    "    model = Sequential()\n",
    "    model.add(LSTM(\n",
    "        input_shape=(None, input_dim),\n",
    "        units=output_dim,\n",
    "        return_sequences=True))\n",
    "\n",
    "    model.add(Dropout(0.2))\n",
    "\n",
    "    model.add(LSTM(\n",
    "        128,\n",
    "        return_sequences=False))\n",
    "\n",
    "    model.add(Dropout(0.2))\n",
    "\n",
    "    model.add(Dense(\n",
    "        units=1))\n",
    "    model.add(Activation('linear'))\n",
    "\n",
    "    return model"
   ]
  },
  {
   "cell_type": "code",
   "execution_count": 117,
   "id": "cb4cf777",
   "metadata": {},
   "outputs": [],
   "source": [
    "def plot_predictions(predictions, targets):\n",
    "    figure = plt.figure()\n",
    "    figure.set_figwidth(18)\n",
    "    figure.set_figheight(10)\n",
    "    \n",
    "    plt.plot(targets, '#00FF00', label='targets')\n",
    "    plt.plot(predictions, '#0000FF', label='predictions')\n",
    "    \n",
    "    plt.show()"
   ]
  },
  {
   "cell_type": "code",
   "execution_count": 152,
   "id": "b7c36944",
   "metadata": {},
   "outputs": [],
   "source": [
    "# Consolidate"
   ]
  },
  {
   "cell_type": "code",
   "execution_count": 146,
   "id": "d7d880b8",
   "metadata": {},
   "outputs": [],
   "source": [
    "def main_loop():\n",
    "    \n",
    "    # Data Preparation\n",
    "    data = get_ticker_data('GOOGL', 10)\n",
    "    data = clean_data(data)\n",
    "    data = normalize_data(data, ['Open', 'High', 'Low', 'Close', 'Volume'])\n",
    "    \n",
    "    X, y = prepare_sets(data)\n",
    "    train_in, train_out, test_in, test_out = split_data(X, y)\n",
    "\n",
    "    X_train, y_train = prepare_sequences(train_in, train_out)\n",
    "    X_test, y_test = prepare_sequences(test_in, test_out)\n",
    "    \n",
    "    print(f'{len(X_train)}, {len(X_test)}')\n",
    "    print(f'{X_train.shape}, {y_train.shape}, {X_test.shape}, {y_train.shape}')\n",
    "    \n",
    "    # Model\n",
    "    model = lstm_updated(train_inputs.shape[-1], train_inputs.shape[-2])\n",
    "    model.compile(loss='mean_squared_error', optimizer='adam')\n",
    "    \n",
    "    # Train\n",
    "    model.fit(\n",
    "        train_inputs,\n",
    "        train_outputs,\n",
    "        batch_size=100,\n",
    "        epochs=5,\n",
    "        verbose=2,\n",
    "        validation_split=0.05)\n",
    "    \n",
    "    # Predict\n",
    "    predictions = model.predict(test_inputs, batch_size=100)\n",
    "    \n",
    "    # Plot\n",
    "    plot_predictions(predictions, test_outputs)\n",
    "    "
   ]
  },
  {
   "cell_type": "code",
   "execution_count": 147,
   "id": "40eb1794",
   "metadata": {},
   "outputs": [
    {
     "name": "stdout",
     "output_type": "stream",
     "text": [
      "10y\n",
      "1912, 503\n",
      "(1912, 50, 4), (1912, 1), (503, 50, 4), (1912, 1)\n",
      "Epoch 1/5\n",
      "19/19 - 5s - loss: 0.0016 - val_loss: 5.0721e-05 - 5s/epoch - 256ms/step\n",
      "Epoch 2/5\n",
      "19/19 - 1s - loss: 1.3692e-04 - val_loss: 1.4648e-04 - 1s/epoch - 75ms/step\n",
      "Epoch 3/5\n",
      "19/19 - 1s - loss: 9.0915e-05 - val_loss: 6.5400e-05 - 1s/epoch - 75ms/step\n",
      "Epoch 4/5\n",
      "19/19 - 1s - loss: 7.1039e-05 - val_loss: 4.2487e-05 - 1s/epoch - 74ms/step\n",
      "Epoch 5/5\n",
      "19/19 - 1s - loss: 7.4442e-05 - val_loss: 4.0039e-05 - 1s/epoch - 76ms/step\n"
     ]
    },
    {
     "data": {
      "image/png": "[encoded data removed]",
      "text/plain": [
       "<Figure size 1296x720 with 1 Axes>"
      ]
     },
     "metadata": {
      "needs_background": "light"
     },
     "output_type": "display_data"
    }
   ],
   "source": [
    "main_loop()"
   ]
  }
 ],
 "metadata": {
  "kernelspec": {
   "display_name": "dl",
   "language": "python",
   "name": "dl"
  },
  "language_info": {
   "codemirror_mode": {
    "name": "ipython",
    "version": 3
   },
   "file_extension": ".py",
   "mimetype": "text/x-python",
   "name": "python",
   "nbconvert_exporter": "python",
   "pygments_lexer": "ipython3",
   "version": "3.8.5"
  }
 },
 "nbformat": 4,
 "nbformat_minor": 5
}
