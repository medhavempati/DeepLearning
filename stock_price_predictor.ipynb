{
 "cells": [
  {
   "cell_type": "code",
   "execution_count": 148,
   "id": "9c395ab6",
   "metadata": {},
   "outputs": [],
   "source": [
    "import pandas as pd\n",
    "import numpy as np\n",
    "import math\n",
    "import datetime\n",
    "import yfinance as yf\n",
    "\n",
    "from sklearn import linear_model\n",
    "from sklearn.model_selection import train_test_split\n",
    "from sklearn.model_selection import StratifiedKFold\n",
    "\n",
    "from keras.layers.core import Dense, Activation, Dropout\n",
    "from keras.layers.recurrent import LSTM\n",
    "from keras.models import Sequential\n",
    "from keras.metrics import mean_squared_error\n",
    "\n",
    "import matplotlib.pyplot as plt"
   ]
  },
  {
   "cell_type": "code",
   "execution_count": 2,
   "id": "80ebcb6e",
   "metadata": {},
   "outputs": [],
   "source": [
    "# Retrieve data"
   ]
  },
  {
   "cell_type": "code",
   "execution_count": 3,
   "id": "10d3d29c",
   "metadata": {},
   "outputs": [],
   "source": [
    "def get_ticker_data(symbol, period):\n",
    "    '''\n",
    "        Arguments:\n",
    "            symbol --> Security symbol (str)\n",
    "            period --> number of years (past x years) (int)\n",
    "    '''   \n",
    "    symbol = symbol.upper()\n",
    "    period = str(period)+'y'\n",
    "\n",
    "    stocks = yf.Ticker(symbol).history(period=period)    \n",
    "    df = pd.DataFrame(stocks)\n",
    "    return df"
   ]
  },
  {
   "cell_type": "code",
   "execution_count": 150,
   "id": "177689b1",
   "metadata": {},
   "outputs": [],
   "source": [
    "# Clean/Modify Data"
   ]
  },
  {
   "cell_type": "code",
   "execution_count": 9,
   "id": "79fd39a7",
   "metadata": {},
   "outputs": [],
   "source": [
    "def clean_data(df):\n",
    "    ind = []\n",
    "    open_col = []\n",
    "    high = []\n",
    "    low = []\n",
    "    close = []\n",
    "    vol = []\n",
    "    \n",
    "    for i in range(len(df)):\n",
    "        open_col.append(df['Open'][i])\n",
    "        high.append(df['High'][i])\n",
    "        low.append(df['Low'][i])\n",
    "        close.append(df['Close'][i])\n",
    "        vol.append(df['Volume'][i])\n",
    "        \n",
    "    stocks = pd.DataFrame()\n",
    "    stocks['Open'] = open_col\n",
    "    stocks['High'] = high\n",
    "    stocks['Low'] = low\n",
    "    stocks['Close'] = close\n",
    "    stocks['Volume'] = vol\n",
    "    \n",
    "    return stocks"
   ]
  },
  {
   "cell_type": "code",
   "execution_count": 12,
   "id": "b0a7dee9",
   "metadata": {},
   "outputs": [],
   "source": [
    "def normalize_data(df, columns):\n",
    "    for column in columns:\n",
    "        temp = []\n",
    "        min_value = min(df[column])\n",
    "        max_value = max(df[column])\n",
    "        for i in range(len(df)):\n",
    "            temp.append((df[column][i] - min_value) / (max_value - min_value))\n",
    "        df[column] = temp\n",
    "    return df\n",
    "            "
   ]
  },
  {
   "cell_type": "code",
   "execution_count": 149,
   "id": "1dc4004e",
   "metadata": {},
   "outputs": [],
   "source": [
    "# Prepare Data For Model"
   ]
  },
  {
   "cell_type": "code",
   "execution_count": 45,
   "id": "ea51751e",
   "metadata": {},
   "outputs": [],
   "source": [
    "def prepare_sets(df):\n",
    "    y = pd.DataFrame()\n",
    "    y['y'] = df['Close']\n",
    "    y = y.to_numpy()\n",
    "    \n",
    "    x = df.drop(['Close'], axis=1)\n",
    "    x = x.to_numpy()\n",
    "    return x, y"
   ]
  },
  {
   "cell_type": "code",
   "execution_count": 64,
   "id": "0b8c13b8",
   "metadata": {},
   "outputs": [],
   "source": [
    "def split_data(x, y, prediction_period=1, sequence_length=50, test_data_size=0.2):\n",
    "    test_data_cut = int(test_data_size * len(x)) + sequence_length + 1\n",
    "    \n",
    "    # Training data\n",
    "    X_train = x[0:-prediction_period - test_data_cut]\n",
    "    y_train = y[prediction_period:-test_data_cut]\n",
    "    \n",
    "    # Test data\n",
    "    X_test = x[-test_data_cut : -prediction_period]\n",
    "    y_test = y[prediction_period - test_data_cut:]\n",
    "    \n",
    "    return X_train, y_train, X_test, y_test"
   ]
  },
  {
   "cell_type": "code",
   "execution_count": 58,
   "id": "3b9daf20",
   "metadata": {},
   "outputs": [],
   "source": [
    "def prepare_sequences(inputs, outputs, sequence_length=50):\n",
    "    x = []\n",
    "    y = []\n",
    "    \n",
    "    for i in range(len(inputs)-sequence_length):\n",
    "        x.append(inputs[i:i+sequence_length])\n",
    "        y.append(outputs[i+sequence_length])\n",
    "        \n",
    "    return np.asarray(x), np.asarray(y)"
   ]
  },
  {
   "cell_type": "code",
   "execution_count": 151,
   "id": "21b167f0",
   "metadata": {},
   "outputs": [],
   "source": [
    "# LSTM Model"
   ]
  },
  {
   "cell_type": "code",
   "execution_count": 20,
   "id": "360277ab",
   "metadata": {},
   "outputs": [],
   "source": [
    "def mean_squared_error(outputs, targets):\n",
    "    squares_sum = 0\n",
    "    for i in range(len(outputs)):\n",
    "        squares_sum += (output[i] - targets[i])**2\n",
    "    mse = float(squares_sum/len(outputs))\n",
    "    return mse"
   ]
  },
  {
   "cell_type": "code",
   "execution_count": 84,
   "id": "2a16aa78",
   "metadata": {},
   "outputs": [],
   "source": [
    "def lstm(input_dim, output_dim):\n",
    "    print(f'{input_dim}, {output_dim}')\n",
    "    model = Sequential()\n",
    "    model.add(LSTM(\n",
    "        input_shape = (None, input_dim),\n",
    "        units = output_dim,\n",
    "        return_sequences=True))\n",
    "    model.add(LSTM(\n",
    "        100, \n",
    "        return_sequences=False))\n",
    "    model.add(Dense(units=1))\n",
    "    model.add(Activation('linear'))\n",
    "    return model"
   ]
  },
  {
   "cell_type": "code",
   "execution_count": 119,
   "id": "8f0d9029",
   "metadata": {},
   "outputs": [],
   "source": [
    "def lstm_updated(input_dim, output_dim):\n",
    "    model = Sequential()\n",
    "    model.add(LSTM(\n",
    "        input_shape=(None, input_dim),\n",
    "        units=output_dim,\n",
    "        return_sequences=True))\n",
    "\n",
    "    model.add(Dropout(0.2))\n",
    "\n",
    "    model.add(LSTM(\n",
    "        128,\n",
    "        return_sequences=False))\n",
    "\n",
    "    model.add(Dropout(0.2))\n",
    "\n",
    "    model.add(Dense(\n",
    "        units=1))\n",
    "    model.add(Activation('linear'))\n",
    "\n",
    "    return model"
   ]
  },
  {
   "cell_type": "code",
   "execution_count": 117,
   "id": "da7814db",
   "metadata": {},
   "outputs": [],
   "source": [
    "def plot_predictions(predictions, targets):\n",
    "    figure = plt.figure()\n",
    "    figure.set_figwidth(18)\n",
    "    figure.set_figheight(10)\n",
    "    \n",
    "    plt.plot(targets, '#00FF00', label='targets')\n",
    "    plt.plot(predictions, '#0000FF', label='predictions')\n",
    "    \n",
    "    plt.show()"
   ]
  },
  {
   "cell_type": "code",
   "execution_count": 152,
   "id": "7ac59035",
   "metadata": {},
   "outputs": [],
   "source": [
    "# Consolidate"
   ]
  },
  {
   "cell_type": "code",
   "execution_count": 153,
   "id": "5c1420c8",
   "metadata": {},
   "outputs": [],
   "source": [
    "def main_loop():\n",
    "    \n",
    "    # Data Preparation\n",
    "    data = get_ticker_data('GOOGL', 10)\n",
    "    data = clean_data(data)\n",
    "    data = normalize_data(data, ['Open', 'High', 'Low', 'Close', 'Volume'])\n",
    "    \n",
    "    X, y = prepare_sets(data)\n",
    "    train_in, train_out, test_in, test_out = split_data(X, y)\n",
    "\n",
    "    X_train, y_train = prepare_sequences(train_in, train_out)\n",
    "    X_test, y_test = prepare_sequences(test_in, test_out)\n",
    "    \n",
    "    print(f'{len(X_train)}, {len(X_test)}')\n",
    "    print(f'{X_train.shape}, {y_train.shape}, {X_test.shape}, {y_train.shape}')\n",
    "    \n",
    "    # Model\n",
    "#     model = lstm_updated(train_inputs.shape[-1], train_inputs.shape[-2])\n",
    "#     model.compile(loss='mean_squared_error', optimizer='adam')\n",
    "    \n",
    "#     # Train\n",
    "#     model.fit(\n",
    "#         train_inputs,\n",
    "#         train_outputs,\n",
    "#         batch_size=100,\n",
    "#         epochs=5,\n",
    "#         verbose=2,\n",
    "#         validation_split=0.05)\n",
    "    \n",
    "#     # Predict\n",
    "#     predictions = model.predict(test_inputs, batch_size=100)\n",
    "    \n",
    "#     # Plot\n",
    "#     plot_predictions(predictions, test_outputs)\n",
    "\n",
    "    return X_train\n",
    "    "
   ]
  },
  {
   "cell_type": "code",
   "execution_count": 155,
   "id": "2bce5f9d",
   "metadata": {},
   "outputs": [
    {
     "name": "stdout",
     "output_type": "stream",
     "text": [
      "10y\n",
      "1912, 503\n",
      "(1912, 50, 4), (1912, 1), (503, 50, 4), (1912, 1)\n"
     ]
    }
   ],
   "source": [
    "test = main_loop()"
   ]
  },
  {
   "cell_type": "code",
   "execution_count": 158,
   "id": "7e39dbbe",
   "metadata": {},
   "outputs": [
    {
     "data": {
      "text/plain": [
       "array([[0.00866947, 0.00794168, 0.00880322, 0.17135755],\n",
       "       [0.00914726, 0.00898152, 0.00991937, 0.1296764 ],\n",
       "       [0.00933692, 0.00864644, 0.00894412, 0.12864444],\n",
       "       [0.0095904 , 0.00881579, 0.00853622, 0.17960529],\n",
       "       [0.00774672, 0.00806552, 0.0076407 , 0.18820524],\n",
       "       [0.0081388 , 0.00785063, 0.00850656, 0.18150549],\n",
       "       [0.00793821, 0.00971722, 0.00859555, 0.18410183],\n",
       "       [0.00941351, 0.00951691, 0.00930567, 0.1420194 ],\n",
       "       [0.008509  , 0.00790708, 0.00812647, 0.14922698],\n",
       "       [0.00857282, 0.0085827 , 0.00908318, 0.13944761],\n",
       "       [0.00843423, 0.008712  , 0.00899974, 0.12947984],\n",
       "       [0.00905608, 0.01006141, 0.00948551, 0.21414436],\n",
       "       [0.0106244 , 0.01112309, 0.01093541, 0.23783927],\n",
       "       [0.01129183, 0.01114131, 0.01142674, 0.16419092],\n",
       "       [0.01124442, 0.01083172, 0.01182908, 0.10977365],\n",
       "       [0.01095811, 0.01055674, 0.01017153, 0.11141174],\n",
       "       [0.00870047, 0.00806552, 0.00691946, 0.24091068],\n",
       "       [0.00888284, 0.00849894, 0.00914808, 0.08448161],\n",
       "       [0.00906337, 0.00855539, 0.00923893, 0.09111586],\n",
       "       [0.00868224, 0.00862823, 0.00806157, 0.19964729],\n",
       "       [0.00723246, 0.0077359 , 0.00792438, 0.11761191],\n",
       "       [0.00882813, 0.00971176, 0.00909059, 0.16485431],\n",
       "       [0.00996789, 0.01060955, 0.01055719, 0.2214584 ],\n",
       "       [0.01025967, 0.01074067, 0.01081119, 0.18035883],\n",
       "       [0.011042  , 0.01117955, 0.01177902, 0.23076274],\n",
       "       [0.01144867, 0.01324828, 0.01199967, 0.1588753 ],\n",
       "       [0.01287109, 0.01302794, 0.01311768, 0.1070872 ],\n",
       "       [0.013544  , 0.0150912 , 0.01408922, 0.18318452],\n",
       "       [0.01425339, 0.01534798, 0.01380926, 0.17831942],\n",
       "       [0.01573052, 0.01529335, 0.01564481, 0.13982438],\n",
       "       [0.01543874, 0.01547363, 0.01539265, 0.12991396],\n",
       "       [0.01580893, 0.01620388, 0.01636789, 0.14531197],\n",
       "       [0.01672074, 0.01713081, 0.01753227, 0.18886048],\n",
       "       [0.01697787, 0.01676659, 0.01627519, 0.13852207],\n",
       "       [0.01666968, 0.01620206, 0.01566335, 0.17016994],\n",
       "       [0.01466735, 0.01511123, 0.01452122, 0.16799947],\n",
       "       [0.0155135 , 0.01519318, 0.01522578, 0.14839974],\n",
       "       [0.01424427, 0.01356333, 0.0138278 , 0.11422108],\n",
       "       [0.0131118 , 0.01309531, 0.01335871, 0.17082517],\n",
       "       [0.01242613, 0.01289499, 0.01275056, 0.15968618],\n",
       "       [0.01334523, 0.01274385, 0.01261337, 0.18420013],\n",
       "       [0.01342729, 0.01301701, 0.01386488, 0.16102121],\n",
       "       [0.01495548, 0.01613833, 0.01552614, 0.45240405],\n",
       "       [0.01590376, 0.01538258, 0.01242611, 0.64919556],\n",
       "       [0.01142678, 0.01079713, 0.00836936, 0.44712122],\n",
       "       [0.00879348, 0.00968262, 0.00936129, 0.22858408],\n",
       "       [0.00870047, 0.00879212, 0.00858257, 0.19955719],\n",
       "       [0.00827011, 0.00942222, 0.00787617, 0.2507556 ],\n",
       "       [0.0080075 , 0.0080728 , 0.00728843, 0.23140978],\n",
       "       [0.00593769, 0.00617889, 0.00624457, 0.1609229 ]])"
      ]
     },
     "execution_count": 158,
     "metadata": {},
     "output_type": "execute_result"
    }
   ],
   "source": [
    "test[0]"
   ]
  }
 ],
 "metadata": {
  "kernelspec": {
   "display_name": "dl",
   "language": "python",
   "name": "dl"
  },
  "language_info": {
   "codemirror_mode": {
    "name": "ipython",
    "version": 3
   },
   "file_extension": ".py",
   "mimetype": "text/x-python",
   "name": "python",
   "nbconvert_exporter": "python",
   "pygments_lexer": "ipython3",
   "version": "3.8.5"
  }
 },
 "nbformat": 4,
 "nbformat_minor": 5
}
