{
 "cells": [
  {
   "cell_type": "code",
   "execution_count": 1,
   "id": "9c395ab6",
   "metadata": {},
   "outputs": [],
   "source": [
    "import pandas as pd\n",
    "import datetime\n",
    "import yfinance as yf"
   ]
  },
  {
   "cell_type": "code",
   "execution_count": 2,
   "id": "80ebcb6e",
   "metadata": {},
   "outputs": [],
   "source": [
    "# Retrieve data"
   ]
  },
  {
   "cell_type": "code",
   "execution_count": 3,
   "id": "10d3d29c",
   "metadata": {},
   "outputs": [],
   "source": [
    "def get_ticker_data(symbol, period):\n",
    "    '''\n",
    "        Arguments:\n",
    "            symbol --> Security symbol (str)\n",
    "            period --> number of years (past x years) (int)\n",
    "    '''   \n",
    "    symbol = symbol.upper()\n",
    "    period = str(period)+'y'\n",
    "    print(period)\n",
    "    stocks = yf.Ticker(symbol).history(period=period)    \n",
    "    df = pd.DataFrame(stocks)\n",
    "    return df"
   ]
  },
  {
   "cell_type": "code",
   "execution_count": 4,
   "id": "7669c873",
   "metadata": {},
   "outputs": [
    {
     "name": "stdout",
     "output_type": "stream",
     "text": [
      "10y\n"
     ]
    },
    {
     "data": {
      "text/plain": [
       "Index(['Open', 'High', 'Low', 'Close', 'Volume', 'Dividends', 'Stock Splits'], dtype='object')"
      ]
     },
     "execution_count": 4,
     "metadata": {},
     "output_type": "execute_result"
    }
   ],
   "source": [
    "# Test dataset\n",
    "data = get_ticker_data('NVDA', 10)\n",
    "data.columns"
   ]
  },
  {
   "cell_type": "code",
   "execution_count": 5,
   "id": "fc36c39a",
   "metadata": {},
   "outputs": [
    {
     "data": {
      "text/html": [
       "<div>\n",
       "<style scoped>\n",
       "    .dataframe tbody tr th:only-of-type {\n",
       "        vertical-align: middle;\n",
       "    }\n",
       "\n",
       "    .dataframe tbody tr th {\n",
       "        vertical-align: top;\n",
       "    }\n",
       "\n",
       "    .dataframe thead th {\n",
       "        text-align: right;\n",
       "    }\n",
       "</style>\n",
       "<table border=\"1\" class=\"dataframe\">\n",
       "  <thead>\n",
       "    <tr style=\"text-align: right;\">\n",
       "      <th></th>\n",
       "      <th>Open</th>\n",
       "      <th>High</th>\n",
       "      <th>Low</th>\n",
       "      <th>Close</th>\n",
       "      <th>Volume</th>\n",
       "      <th>Dividends</th>\n",
       "      <th>Stock Splits</th>\n",
       "    </tr>\n",
       "    <tr>\n",
       "      <th>Date</th>\n",
       "      <th></th>\n",
       "      <th></th>\n",
       "      <th></th>\n",
       "      <th></th>\n",
       "      <th></th>\n",
       "      <th></th>\n",
       "      <th></th>\n",
       "    </tr>\n",
       "  </thead>\n",
       "  <tbody>\n",
       "    <tr>\n",
       "      <th>2012-02-09</th>\n",
       "      <td>3.791564</td>\n",
       "      <td>3.812233</td>\n",
       "      <td>3.736448</td>\n",
       "      <td>3.743337</td>\n",
       "      <td>56194400</td>\n",
       "      <td>0.0</td>\n",
       "      <td>0.0</td>\n",
       "    </tr>\n",
       "    <tr>\n",
       "      <th>2012-02-10</th>\n",
       "      <td>3.706594</td>\n",
       "      <td>3.720373</td>\n",
       "      <td>3.630809</td>\n",
       "      <td>3.651477</td>\n",
       "      <td>44026800</td>\n",
       "      <td>0.0</td>\n",
       "      <td>0.0</td>\n",
       "    </tr>\n",
       "    <tr>\n",
       "      <th>2012-02-13</th>\n",
       "      <td>3.743337</td>\n",
       "      <td>3.757116</td>\n",
       "      <td>3.633104</td>\n",
       "      <td>3.708889</td>\n",
       "      <td>61066800</td>\n",
       "      <td>0.0</td>\n",
       "      <td>0.0</td>\n",
       "    </tr>\n",
       "    <tr>\n",
       "      <th>2012-02-14</th>\n",
       "      <td>3.708890</td>\n",
       "      <td>3.761710</td>\n",
       "      <td>3.676739</td>\n",
       "      <td>3.729559</td>\n",
       "      <td>45375600</td>\n",
       "      <td>0.0</td>\n",
       "      <td>0.0</td>\n",
       "    </tr>\n",
       "    <tr>\n",
       "      <th>2012-02-15</th>\n",
       "      <td>3.764007</td>\n",
       "      <td>3.881130</td>\n",
       "      <td>3.704297</td>\n",
       "      <td>3.713483</td>\n",
       "      <td>111085600</td>\n",
       "      <td>0.0</td>\n",
       "      <td>0.0</td>\n",
       "    </tr>\n",
       "    <tr>\n",
       "      <th>...</th>\n",
       "      <td>...</td>\n",
       "      <td>...</td>\n",
       "      <td>...</td>\n",
       "      <td>...</td>\n",
       "      <td>...</td>\n",
       "      <td>...</td>\n",
       "      <td>...</td>\n",
       "    </tr>\n",
       "    <tr>\n",
       "      <th>2022-02-02</th>\n",
       "      <td>257.940002</td>\n",
       "      <td>258.170013</td>\n",
       "      <td>245.529999</td>\n",
       "      <td>252.419998</td>\n",
       "      <td>54341900</td>\n",
       "      <td>0.0</td>\n",
       "      <td>0.0</td>\n",
       "    </tr>\n",
       "    <tr>\n",
       "      <th>2022-02-03</th>\n",
       "      <td>244.580002</td>\n",
       "      <td>250.770004</td>\n",
       "      <td>237.800003</td>\n",
       "      <td>239.479996</td>\n",
       "      <td>41017800</td>\n",
       "      <td>0.0</td>\n",
       "      <td>0.0</td>\n",
       "    </tr>\n",
       "    <tr>\n",
       "      <th>2022-02-04</th>\n",
       "      <td>239.720001</td>\n",
       "      <td>246.350006</td>\n",
       "      <td>236.320007</td>\n",
       "      <td>243.190002</td>\n",
       "      <td>35432800</td>\n",
       "      <td>0.0</td>\n",
       "      <td>0.0</td>\n",
       "    </tr>\n",
       "    <tr>\n",
       "      <th>2022-02-07</th>\n",
       "      <td>243.720001</td>\n",
       "      <td>251.820007</td>\n",
       "      <td>242.020004</td>\n",
       "      <td>247.279999</td>\n",
       "      <td>37686800</td>\n",
       "      <td>0.0</td>\n",
       "      <td>0.0</td>\n",
       "    </tr>\n",
       "    <tr>\n",
       "      <th>2022-02-08</th>\n",
       "      <td>243.589996</td>\n",
       "      <td>252.300003</td>\n",
       "      <td>239.800003</td>\n",
       "      <td>251.080002</td>\n",
       "      <td>40901100</td>\n",
       "      <td>0.0</td>\n",
       "      <td>0.0</td>\n",
       "    </tr>\n",
       "  </tbody>\n",
       "</table>\n",
       "<p>2517 rows × 7 columns</p>\n",
       "</div>"
      ],
      "text/plain": [
       "                  Open        High         Low       Close     Volume  \\\n",
       "Date                                                                    \n",
       "2012-02-09    3.791564    3.812233    3.736448    3.743337   56194400   \n",
       "2012-02-10    3.706594    3.720373    3.630809    3.651477   44026800   \n",
       "2012-02-13    3.743337    3.757116    3.633104    3.708889   61066800   \n",
       "2012-02-14    3.708890    3.761710    3.676739    3.729559   45375600   \n",
       "2012-02-15    3.764007    3.881130    3.704297    3.713483  111085600   \n",
       "...                ...         ...         ...         ...        ...   \n",
       "2022-02-02  257.940002  258.170013  245.529999  252.419998   54341900   \n",
       "2022-02-03  244.580002  250.770004  237.800003  239.479996   41017800   \n",
       "2022-02-04  239.720001  246.350006  236.320007  243.190002   35432800   \n",
       "2022-02-07  243.720001  251.820007  242.020004  247.279999   37686800   \n",
       "2022-02-08  243.589996  252.300003  239.800003  251.080002   40901100   \n",
       "\n",
       "            Dividends  Stock Splits  \n",
       "Date                                 \n",
       "2012-02-09        0.0           0.0  \n",
       "2012-02-10        0.0           0.0  \n",
       "2012-02-13        0.0           0.0  \n",
       "2012-02-14        0.0           0.0  \n",
       "2012-02-15        0.0           0.0  \n",
       "...               ...           ...  \n",
       "2022-02-02        0.0           0.0  \n",
       "2022-02-03        0.0           0.0  \n",
       "2022-02-04        0.0           0.0  \n",
       "2022-02-07        0.0           0.0  \n",
       "2022-02-08        0.0           0.0  \n",
       "\n",
       "[2517 rows x 7 columns]"
      ]
     },
     "execution_count": 5,
     "metadata": {},
     "output_type": "execute_result"
    }
   ],
   "source": [
    "data.reset_index()\n",
    "data"
   ]
  },
  {
   "cell_type": "code",
   "execution_count": 6,
   "id": "177689b1",
   "metadata": {},
   "outputs": [],
   "source": [
    "# Prepare Data"
   ]
  },
  {
   "cell_type": "code",
   "execution_count": 9,
   "id": "79fd39a7",
   "metadata": {},
   "outputs": [],
   "source": [
    "def clean_data(df):\n",
    "    ind = []\n",
    "    open_col = []\n",
    "    high = []\n",
    "    low = []\n",
    "    close = []\n",
    "    vol = []\n",
    "    \n",
    "    for i in range(len(df)):\n",
    "        open_col.append(df['Open'][i])\n",
    "        high.append(df['High'][i])\n",
    "        low.append(df['Low'][i])\n",
    "        close.append(df['Close'][i])\n",
    "        vol.append(df['Volume'][i])\n",
    "        \n",
    "    stocks = pd.DataFrame()\n",
    "    stocks['Open'] = open_col\n",
    "    stocks['High'] = high\n",
    "    stocks['Low'] = low\n",
    "    stocks['Close'] = close\n",
    "    stocks['Volume'] = vol\n",
    "    \n",
    "    return stocks"
   ]
  },
  {
   "cell_type": "code",
   "execution_count": 10,
   "id": "f49de0e3",
   "metadata": {},
   "outputs": [],
   "source": [
    "data = clean_data(data)"
   ]
  },
  {
   "cell_type": "code",
   "execution_count": 11,
   "id": "5c169675",
   "metadata": {},
   "outputs": [
    {
     "data": {
      "text/html": [
       "<div>\n",
       "<style scoped>\n",
       "    .dataframe tbody tr th:only-of-type {\n",
       "        vertical-align: middle;\n",
       "    }\n",
       "\n",
       "    .dataframe tbody tr th {\n",
       "        vertical-align: top;\n",
       "    }\n",
       "\n",
       "    .dataframe thead th {\n",
       "        text-align: right;\n",
       "    }\n",
       "</style>\n",
       "<table border=\"1\" class=\"dataframe\">\n",
       "  <thead>\n",
       "    <tr style=\"text-align: right;\">\n",
       "      <th></th>\n",
       "      <th>Open</th>\n",
       "      <th>High</th>\n",
       "      <th>Low</th>\n",
       "      <th>Close</th>\n",
       "      <th>Volume</th>\n",
       "    </tr>\n",
       "  </thead>\n",
       "  <tbody>\n",
       "    <tr>\n",
       "      <th>0</th>\n",
       "      <td>3.791564</td>\n",
       "      <td>3.812233</td>\n",
       "      <td>3.736448</td>\n",
       "      <td>3.743337</td>\n",
       "      <td>56194400</td>\n",
       "    </tr>\n",
       "    <tr>\n",
       "      <th>1</th>\n",
       "      <td>3.706594</td>\n",
       "      <td>3.720373</td>\n",
       "      <td>3.630809</td>\n",
       "      <td>3.651477</td>\n",
       "      <td>44026800</td>\n",
       "    </tr>\n",
       "    <tr>\n",
       "      <th>2</th>\n",
       "      <td>3.743337</td>\n",
       "      <td>3.757116</td>\n",
       "      <td>3.633104</td>\n",
       "      <td>3.708889</td>\n",
       "      <td>61066800</td>\n",
       "    </tr>\n",
       "    <tr>\n",
       "      <th>3</th>\n",
       "      <td>3.708890</td>\n",
       "      <td>3.761710</td>\n",
       "      <td>3.676739</td>\n",
       "      <td>3.729559</td>\n",
       "      <td>45375600</td>\n",
       "    </tr>\n",
       "    <tr>\n",
       "      <th>4</th>\n",
       "      <td>3.764007</td>\n",
       "      <td>3.881130</td>\n",
       "      <td>3.704297</td>\n",
       "      <td>3.713483</td>\n",
       "      <td>111085600</td>\n",
       "    </tr>\n",
       "    <tr>\n",
       "      <th>...</th>\n",
       "      <td>...</td>\n",
       "      <td>...</td>\n",
       "      <td>...</td>\n",
       "      <td>...</td>\n",
       "      <td>...</td>\n",
       "    </tr>\n",
       "    <tr>\n",
       "      <th>2512</th>\n",
       "      <td>257.940002</td>\n",
       "      <td>258.170013</td>\n",
       "      <td>245.529999</td>\n",
       "      <td>252.419998</td>\n",
       "      <td>54341900</td>\n",
       "    </tr>\n",
       "    <tr>\n",
       "      <th>2513</th>\n",
       "      <td>244.580002</td>\n",
       "      <td>250.770004</td>\n",
       "      <td>237.800003</td>\n",
       "      <td>239.479996</td>\n",
       "      <td>41017800</td>\n",
       "    </tr>\n",
       "    <tr>\n",
       "      <th>2514</th>\n",
       "      <td>239.720001</td>\n",
       "      <td>246.350006</td>\n",
       "      <td>236.320007</td>\n",
       "      <td>243.190002</td>\n",
       "      <td>35432800</td>\n",
       "    </tr>\n",
       "    <tr>\n",
       "      <th>2515</th>\n",
       "      <td>243.720001</td>\n",
       "      <td>251.820007</td>\n",
       "      <td>242.020004</td>\n",
       "      <td>247.279999</td>\n",
       "      <td>37686800</td>\n",
       "    </tr>\n",
       "    <tr>\n",
       "      <th>2516</th>\n",
       "      <td>243.589996</td>\n",
       "      <td>252.300003</td>\n",
       "      <td>239.800003</td>\n",
       "      <td>251.080002</td>\n",
       "      <td>40901100</td>\n",
       "    </tr>\n",
       "  </tbody>\n",
       "</table>\n",
       "<p>2517 rows × 5 columns</p>\n",
       "</div>"
      ],
      "text/plain": [
       "            Open        High         Low       Close     Volume\n",
       "0       3.791564    3.812233    3.736448    3.743337   56194400\n",
       "1       3.706594    3.720373    3.630809    3.651477   44026800\n",
       "2       3.743337    3.757116    3.633104    3.708889   61066800\n",
       "3       3.708890    3.761710    3.676739    3.729559   45375600\n",
       "4       3.764007    3.881130    3.704297    3.713483  111085600\n",
       "...          ...         ...         ...         ...        ...\n",
       "2512  257.940002  258.170013  245.529999  252.419998   54341900\n",
       "2513  244.580002  250.770004  237.800003  239.479996   41017800\n",
       "2514  239.720001  246.350006  236.320007  243.190002   35432800\n",
       "2515  243.720001  251.820007  242.020004  247.279999   37686800\n",
       "2516  243.589996  252.300003  239.800003  251.080002   40901100\n",
       "\n",
       "[2517 rows x 5 columns]"
      ]
     },
     "execution_count": 11,
     "metadata": {},
     "output_type": "execute_result"
    }
   ],
   "source": [
    "data"
   ]
  },
  {
   "cell_type": "code",
   "execution_count": 12,
   "id": "ff67393f",
   "metadata": {},
   "outputs": [],
   "source": [
    "def normalize_data(df, columns):\n",
    "    for column in columns:\n",
    "        temp = []\n",
    "        min_value = min(df[column])\n",
    "        max_value = max(df[column])\n",
    "        for i in range(len(df)):\n",
    "            temp.append((df[column][i] - min_value) / (max_value - min_value))\n",
    "        df[column] = temp\n",
    "    return df\n",
    "            "
   ]
  },
  {
   "cell_type": "code",
   "execution_count": 14,
   "id": "e0d8b047",
   "metadata": {},
   "outputs": [],
   "source": [
    "data = normalize_data(data, ['Open', 'High', 'Low', 'Close', 'Volume'])"
   ]
  },
  {
   "cell_type": "code",
   "execution_count": 15,
   "id": "aa85a8a4",
   "metadata": {},
   "outputs": [
    {
     "data": {
      "text/html": [
       "<div>\n",
       "<style scoped>\n",
       "    .dataframe tbody tr th:only-of-type {\n",
       "        vertical-align: middle;\n",
       "    }\n",
       "\n",
       "    .dataframe tbody tr th {\n",
       "        vertical-align: top;\n",
       "    }\n",
       "\n",
       "    .dataframe thead th {\n",
       "        text-align: right;\n",
       "    }\n",
       "</style>\n",
       "<table border=\"1\" class=\"dataframe\">\n",
       "  <thead>\n",
       "    <tr style=\"text-align: right;\">\n",
       "      <th></th>\n",
       "      <th>Open</th>\n",
       "      <th>High</th>\n",
       "      <th>Low</th>\n",
       "      <th>Close</th>\n",
       "      <th>Volume</th>\n",
       "    </tr>\n",
       "  </thead>\n",
       "  <tbody>\n",
       "    <tr>\n",
       "      <th>0</th>\n",
       "      <td>0.003416</td>\n",
       "      <td>0.003320</td>\n",
       "      <td>0.003700</td>\n",
       "      <td>0.003412</td>\n",
       "      <td>0.141557</td>\n",
       "    </tr>\n",
       "    <tr>\n",
       "      <th>1</th>\n",
       "      <td>0.003161</td>\n",
       "      <td>0.003053</td>\n",
       "      <td>0.003368</td>\n",
       "      <td>0.003135</td>\n",
       "      <td>0.108197</td>\n",
       "    </tr>\n",
       "    <tr>\n",
       "      <th>2</th>\n",
       "      <td>0.003271</td>\n",
       "      <td>0.003160</td>\n",
       "      <td>0.003375</td>\n",
       "      <td>0.003308</td>\n",
       "      <td>0.154916</td>\n",
       "    </tr>\n",
       "    <tr>\n",
       "      <th>3</th>\n",
       "      <td>0.003168</td>\n",
       "      <td>0.003173</td>\n",
       "      <td>0.003512</td>\n",
       "      <td>0.003371</td>\n",
       "      <td>0.111895</td>\n",
       "    </tr>\n",
       "    <tr>\n",
       "      <th>4</th>\n",
       "      <td>0.003333</td>\n",
       "      <td>0.003521</td>\n",
       "      <td>0.003599</td>\n",
       "      <td>0.003322</td>\n",
       "      <td>0.292056</td>\n",
       "    </tr>\n",
       "    <tr>\n",
       "      <th>...</th>\n",
       "      <td>...</td>\n",
       "      <td>...</td>\n",
       "      <td>...</td>\n",
       "      <td>...</td>\n",
       "      <td>...</td>\n",
       "    </tr>\n",
       "    <tr>\n",
       "      <th>2512</th>\n",
       "      <td>0.767834</td>\n",
       "      <td>0.743256</td>\n",
       "      <td>0.764631</td>\n",
       "      <td>0.754462</td>\n",
       "      <td>0.136478</td>\n",
       "    </tr>\n",
       "    <tr>\n",
       "      <th>2513</th>\n",
       "      <td>0.727650</td>\n",
       "      <td>0.721729</td>\n",
       "      <td>0.740305</td>\n",
       "      <td>0.715380</td>\n",
       "      <td>0.099947</td>\n",
       "    </tr>\n",
       "    <tr>\n",
       "      <th>2514</th>\n",
       "      <td>0.713033</td>\n",
       "      <td>0.708871</td>\n",
       "      <td>0.735647</td>\n",
       "      <td>0.726585</td>\n",
       "      <td>0.084634</td>\n",
       "    </tr>\n",
       "    <tr>\n",
       "      <th>2515</th>\n",
       "      <td>0.725064</td>\n",
       "      <td>0.724783</td>\n",
       "      <td>0.753585</td>\n",
       "      <td>0.738938</td>\n",
       "      <td>0.090814</td>\n",
       "    </tr>\n",
       "    <tr>\n",
       "      <th>2516</th>\n",
       "      <td>0.724673</td>\n",
       "      <td>0.726180</td>\n",
       "      <td>0.746599</td>\n",
       "      <td>0.750415</td>\n",
       "      <td>0.099627</td>\n",
       "    </tr>\n",
       "  </tbody>\n",
       "</table>\n",
       "<p>2517 rows × 5 columns</p>\n",
       "</div>"
      ],
      "text/plain": [
       "          Open      High       Low     Close    Volume\n",
       "0     0.003416  0.003320  0.003700  0.003412  0.141557\n",
       "1     0.003161  0.003053  0.003368  0.003135  0.108197\n",
       "2     0.003271  0.003160  0.003375  0.003308  0.154916\n",
       "3     0.003168  0.003173  0.003512  0.003371  0.111895\n",
       "4     0.003333  0.003521  0.003599  0.003322  0.292056\n",
       "...        ...       ...       ...       ...       ...\n",
       "2512  0.767834  0.743256  0.764631  0.754462  0.136478\n",
       "2513  0.727650  0.721729  0.740305  0.715380  0.099947\n",
       "2514  0.713033  0.708871  0.735647  0.726585  0.084634\n",
       "2515  0.725064  0.724783  0.753585  0.738938  0.090814\n",
       "2516  0.724673  0.726180  0.746599  0.750415  0.099627\n",
       "\n",
       "[2517 rows x 5 columns]"
      ]
     },
     "execution_count": 15,
     "metadata": {},
     "output_type": "execute_result"
    }
   ],
   "source": [
    "data"
   ]
  },
  {
   "cell_type": "code",
   "execution_count": 26,
   "id": "187c1824",
   "metadata": {},
   "outputs": [
    {
     "data": {
      "text/html": [
       "<div>\n",
       "<style scoped>\n",
       "    .dataframe tbody tr th:only-of-type {\n",
       "        vertical-align: middle;\n",
       "    }\n",
       "\n",
       "    .dataframe tbody tr th {\n",
       "        vertical-align: top;\n",
       "    }\n",
       "\n",
       "    .dataframe thead th {\n",
       "        text-align: right;\n",
       "    }\n",
       "</style>\n",
       "<table border=\"1\" class=\"dataframe\">\n",
       "  <thead>\n",
       "    <tr style=\"text-align: right;\">\n",
       "      <th></th>\n",
       "      <th>Open</th>\n",
       "    </tr>\n",
       "  </thead>\n",
       "  <tbody>\n",
       "    <tr>\n",
       "      <th>0</th>\n",
       "      <td>0.003416</td>\n",
       "    </tr>\n",
       "    <tr>\n",
       "      <th>1</th>\n",
       "      <td>0.003161</td>\n",
       "    </tr>\n",
       "    <tr>\n",
       "      <th>2</th>\n",
       "      <td>0.003271</td>\n",
       "    </tr>\n",
       "    <tr>\n",
       "      <th>3</th>\n",
       "      <td>0.003168</td>\n",
       "    </tr>\n",
       "    <tr>\n",
       "      <th>4</th>\n",
       "      <td>0.003333</td>\n",
       "    </tr>\n",
       "    <tr>\n",
       "      <th>...</th>\n",
       "      <td>...</td>\n",
       "    </tr>\n",
       "    <tr>\n",
       "      <th>2512</th>\n",
       "      <td>0.767834</td>\n",
       "    </tr>\n",
       "    <tr>\n",
       "      <th>2513</th>\n",
       "      <td>0.727650</td>\n",
       "    </tr>\n",
       "    <tr>\n",
       "      <th>2514</th>\n",
       "      <td>0.713033</td>\n",
       "    </tr>\n",
       "    <tr>\n",
       "      <th>2515</th>\n",
       "      <td>0.725064</td>\n",
       "    </tr>\n",
       "    <tr>\n",
       "      <th>2516</th>\n",
       "      <td>0.724673</td>\n",
       "    </tr>\n",
       "  </tbody>\n",
       "</table>\n",
       "<p>2517 rows × 1 columns</p>\n",
       "</div>"
      ],
      "text/plain": [
       "          Open\n",
       "0     0.003416\n",
       "1     0.003161\n",
       "2     0.003271\n",
       "3     0.003168\n",
       "4     0.003333\n",
       "...        ...\n",
       "2512  0.767834\n",
       "2513  0.727650\n",
       "2514  0.713033\n",
       "2515  0.725064\n",
       "2516  0.724673\n",
       "\n",
       "[2517 rows x 1 columns]"
      ]
     },
     "execution_count": 26,
     "metadata": {},
     "output_type": "execute_result"
    }
   ],
   "source": [
    "x = pd.DataFrame()\n",
    "x['Open'] = data['Open']\n",
    "x"
   ]
  },
  {
   "cell_type": "code",
   "execution_count": 16,
   "id": "ca7a0fd2",
   "metadata": {},
   "outputs": [],
   "source": [
    "# Model"
   ]
  },
  {
   "cell_type": "code",
   "execution_count": 21,
   "id": "1f572f33",
   "metadata": {},
   "outputs": [],
   "source": [
    "# LSTM"
   ]
  },
  {
   "cell_type": "code",
   "execution_count": 89,
   "id": "3a81d735",
   "metadata": {},
   "outputs": [],
   "source": [
    "import math\n",
    "import numpy as np\n",
    "from IPython.display import display\n",
    "from sklearn import linear_model\n",
    "from sklearn.model_selection import train_test_split\n",
    "from keras.metrics import mean_squared_error\n",
    "from sklearn.model_selection import StratifiedKFold"
   ]
  },
  {
   "cell_type": "code",
   "execution_count": 20,
   "id": "33ba8f56",
   "metadata": {},
   "outputs": [],
   "source": [
    "def mean_squared_error(outputs, targets):\n",
    "    squares_sum = 0\n",
    "    for i in range(len(outputs)):\n",
    "        squares_sum += (output[i] - targets[i])**2\n",
    "    mse = float(squares_sum/len(outputs))\n",
    "    return mse"
   ]
  },
  {
   "cell_type": "code",
   "execution_count": 45,
   "id": "04e8464e",
   "metadata": {},
   "outputs": [],
   "source": [
    "def prepare_sets(df):\n",
    "    y = pd.DataFrame()\n",
    "    y['y'] = df['Close']\n",
    "    y = y.to_numpy()\n",
    "    \n",
    "    x = df.drop(['Close'], axis=1)\n",
    "    x = x.to_numpy()\n",
    "    return x, y"
   ]
  },
  {
   "cell_type": "code",
   "execution_count": 47,
   "id": "d163b070",
   "metadata": {},
   "outputs": [
    {
     "data": {
      "text/plain": [
       "array([[0.00341631, 0.00332029, 0.00370034, 0.14155739],\n",
       "       [0.00316074, 0.00305307, 0.00336789, 0.10819667],\n",
       "       [0.00327125, 0.00315996, 0.00337512, 0.15491637],\n",
       "       ...,\n",
       "       [0.71303262, 0.70887092, 0.73564728, 0.08463394],\n",
       "       [0.72506366, 0.72478334, 0.75358533, 0.09081388],\n",
       "       [0.72467264, 0.72617967, 0.74659893, 0.09962674]])"
      ]
     },
     "execution_count": 47,
     "metadata": {},
     "output_type": "execute_result"
    }
   ],
   "source": [
    "x, y = prepare_sets(data)\n",
    "x"
   ]
  },
  {
   "cell_type": "code",
   "execution_count": 64,
   "id": "03cf56b7",
   "metadata": {},
   "outputs": [],
   "source": [
    "def split_data(x, y, prediction_period=1, sequence_length=50, test_data_size=0.2):\n",
    "    test_data_cut = int(test_data_size * len(x)) + sequence_length + 1\n",
    "    \n",
    "    # Training data\n",
    "    X_train = x[0:-prediction_period - test_data_cut]\n",
    "    y_train = y[prediction_period:-test_data_cut]\n",
    "    \n",
    "    # Test data\n",
    "    X_test = x[-test_data_cut : -prediction_period]\n",
    "    y_test = y[prediction_period - test_data_cut:]\n",
    "    \n",
    "    return X_train, y_train, X_test, y_test"
   ]
  },
  {
   "cell_type": "code",
   "execution_count": 65,
   "id": "ef0e7b00",
   "metadata": {},
   "outputs": [
    {
     "data": {
      "text/plain": [
       "553"
      ]
     },
     "execution_count": 65,
     "metadata": {},
     "output_type": "execute_result"
    }
   ],
   "source": [
    "X_train, y_train, X_test, y_test = split_data(x, y)\n",
    "len(y_test)"
   ]
  },
  {
   "cell_type": "code",
   "execution_count": 58,
   "id": "369ee3fb",
   "metadata": {},
   "outputs": [],
   "source": [
    "def prepare_sequences(inputs, outputs, sequence_length=50):\n",
    "    x = []\n",
    "    y = []\n",
    "    \n",
    "    for i in range(len(inputs)-sequence_length):\n",
    "        x.append(inputs[i:i+sequence_length])\n",
    "        y.append(outputs[i+sequence_length])\n",
    "        \n",
    "    return np.asarray(x), np.asarray(y)"
   ]
  },
  {
   "cell_type": "code",
   "execution_count": 62,
   "id": "669427aa",
   "metadata": {},
   "outputs": [
    {
     "data": {
      "text/plain": [
       "503"
      ]
     },
     "execution_count": 62,
     "metadata": {},
     "output_type": "execute_result"
    }
   ],
   "source": [
    "train_inputs, train_outputs = prepare_sequences(X_train, y_train)\n",
    "test_inputs, test_outputs = prepare_sequences(X_test, y_test)\n",
    "len(test_inputs)"
   ]
  },
  {
   "cell_type": "code",
   "execution_count": 79,
   "id": "1b81af62",
   "metadata": {},
   "outputs": [
    {
     "data": {
      "text/plain": [
       "(1912, 50, 4)"
      ]
     },
     "execution_count": 79,
     "metadata": {},
     "output_type": "execute_result"
    }
   ],
   "source": [
    "train_inputs.shape"
   ]
  },
  {
   "cell_type": "code",
   "execution_count": 73,
   "id": "29fe61f6",
   "metadata": {},
   "outputs": [
    {
     "name": "stderr",
     "output_type": "stream",
     "text": [
      "2022-02-10 10:59:15.813889: W tensorflow/stream_executor/platform/default/dso_loader.cc:64] Could not load dynamic library 'libcudart.so.11.0'; dlerror: libcudart.so.11.0: cannot open shared object file: No such file or directory\n",
      "2022-02-10 10:59:15.813922: I tensorflow/stream_executor/cuda/cudart_stub.cc:29] Ignore above cudart dlerror if you do not have a GPU set up on your machine.\n"
     ]
    }
   ],
   "source": [
    "from keras.layers.core import Dense, Activation, Dropout\n",
    "from keras.layers.recurrent import LSTM\n",
    "from keras.models import Sequential"
   ]
  },
  {
   "cell_type": "code",
   "execution_count": 84,
   "id": "744381bb",
   "metadata": {},
   "outputs": [],
   "source": [
    "def lstm(input_dim, output_dim):\n",
    "    print(f'{input_dim}, {output_dim}')\n",
    "    model = Sequential()\n",
    "    model.add(LSTM(\n",
    "        input_shape = (None, input_dim),\n",
    "        units = output_dim,\n",
    "        return_sequences=True))\n",
    "    model.add(LSTM(\n",
    "        100, \n",
    "        return_sequences=False))\n",
    "    model.add(Dense(units=1))\n",
    "    model.add(Activation('linear'))\n",
    "    return model"
   ]
  },
  {
   "cell_type": "code",
   "execution_count": 85,
   "id": "067d947e",
   "metadata": {},
   "outputs": [
    {
     "name": "stdout",
     "output_type": "stream",
     "text": [
      "4, 50\n"
     ]
    }
   ],
   "source": [
    "model = lstm(train_inputs.shape[-1], train_inputs.shape[-2])"
   ]
  },
  {
   "cell_type": "code",
   "execution_count": 91,
   "id": "bfc830a8",
   "metadata": {},
   "outputs": [],
   "source": [
    "model.compile(loss='mean_squared_error', optimizer='adam')"
   ]
  },
  {
   "cell_type": "code",
   "execution_count": 92,
   "id": "4314c5f0",
   "metadata": {},
   "outputs": [
    {
     "name": "stdout",
     "output_type": "stream",
     "text": [
      "57/57 [==============================] - 6s 55ms/step - loss: 2.0726e-04 - val_loss: 3.8777e-05\n"
     ]
    },
    {
     "data": {
      "text/plain": [
       "<keras.callbacks.History at 0x7fef340fee50>"
      ]
     },
     "execution_count": 92,
     "metadata": {},
     "output_type": "execute_result"
    }
   ],
   "source": [
    "model.fit(\n",
    "    train_inputs,\n",
    "    train_outputs,\n",
    "    epochs=1,\n",
    "    validation_split=0.05)"
   ]
  },
  {
   "cell_type": "code",
   "execution_count": 93,
   "id": "4cba0164",
   "metadata": {},
   "outputs": [],
   "source": [
    "predictions = model.predict(test_inputs)"
   ]
  },
  {
   "cell_type": "code",
   "execution_count": 94,
   "id": "e19d3703",
   "metadata": {},
   "outputs": [],
   "source": [
    "import matplotlib.pyplot as plt"
   ]
  },
  {
   "cell_type": "code",
   "execution_count": 117,
   "id": "7687e1c8",
   "metadata": {},
   "outputs": [],
   "source": [
    "def plot_predictions(predictions, targets):\n",
    "    figure = plt.figure()\n",
    "    figure.set_figwidth(18)\n",
    "    figure.set_figheight(10)\n",
    "    \n",
    "    plt.plot(targets, '#00FF00', label='targets')\n",
    "    plt.plot(predictions, '#0000FF', label='predictions')\n",
    "    \n",
    "    plt.show()"
   ]
  },
  {
   "cell_type": "code",
   "execution_count": 118,
   "id": "886eec0c",
   "metadata": {},
   "outputs": [
    {
     "data": {
      "image/png": "[encoded data removed]",
      "text/plain": [
       "<Figure size 1296x720 with 1 Axes>"
      ]
     },
     "metadata": {
      "needs_background": "light"
     },
     "output_type": "display_data"
    }
   ],
   "source": [
    "plot_predictions(predictions, test_outputs)"
   ]
  },
  {
   "cell_type": "code",
   "execution_count": 119,
   "id": "005c522c",
   "metadata": {},
   "outputs": [],
   "source": [
    "def lstm_updated(input_dim, output_dim):\n",
    "    model = Sequential()\n",
    "    model.add(LSTM(\n",
    "        input_shape=(None, input_dim),\n",
    "        units=output_dim,\n",
    "        return_sequences=True))\n",
    "\n",
    "    model.add(Dropout(0.2))\n",
    "\n",
    "    model.add(LSTM(\n",
    "        128,\n",
    "        return_sequences=False))\n",
    "\n",
    "    model.add(Dropout(0.2))\n",
    "\n",
    "    model.add(Dense(\n",
    "        units=1))\n",
    "    model.add(Activation('linear'))\n",
    "\n",
    "    return model"
   ]
  },
  {
   "cell_type": "code",
   "execution_count": 120,
   "id": "dd4f214d",
   "metadata": {},
   "outputs": [],
   "source": [
    "model = lstm_updated(train_inputs.shape[-1], train_inputs.shape[-2])"
   ]
  },
  {
   "cell_type": "code",
   "execution_count": 121,
   "id": "3b41c019",
   "metadata": {},
   "outputs": [],
   "source": [
    "model.compile(loss='mean_squared_error', optimizer='adam')"
   ]
  },
  {
   "cell_type": "code",
   "execution_count": 125,
   "id": "71bd5bff",
   "metadata": {},
   "outputs": [
    {
     "name": "stdout",
     "output_type": "stream",
     "text": [
      "Epoch 1/5\n",
      "19/19 - 2s - loss: 8.6866e-05 - val_loss: 5.6213e-05 - 2s/epoch - 93ms/step\n",
      "Epoch 2/5\n",
      "19/19 - 1s - loss: 7.6374e-05 - val_loss: 4.0965e-05 - 1s/epoch - 74ms/step\n",
      "Epoch 3/5\n",
      "19/19 - 2s - loss: 7.3668e-05 - val_loss: 3.6249e-05 - 2s/epoch - 80ms/step\n",
      "Epoch 4/5\n",
      "19/19 - 1s - loss: 7.1873e-05 - val_loss: 3.6234e-05 - 1s/epoch - 77ms/step\n",
      "Epoch 5/5\n",
      "19/19 - 2s - loss: 6.2990e-05 - val_loss: 3.5906e-05 - 2s/epoch - 80ms/step\n"
     ]
    },
    {
     "data": {
      "text/plain": [
       "<keras.callbacks.History at 0x7fef0f104970>"
      ]
     },
     "execution_count": 125,
     "metadata": {},
     "output_type": "execute_result"
    }
   ],
   "source": [
    "model.fit(\n",
    "    train_inputs,\n",
    "    train_outputs,\n",
    "    batch_size=100,\n",
    "    epochs=5,\n",
    "    verbose=2,\n",
    "    validation_split=0.05)"
   ]
  },
  {
   "cell_type": "code",
   "execution_count": 126,
   "id": "72829609",
   "metadata": {},
   "outputs": [],
   "source": [
    "predictions = model.predict(test_inputs, batch_size=100)"
   ]
  },
  {
   "cell_type": "code",
   "execution_count": 127,
   "id": "866cce40",
   "metadata": {},
   "outputs": [
    {
     "data": {
      "image/png": "[encoded data removed]",
      "text/plain": [
       "<Figure size 1296x720 with 1 Axes>"
      ]
     },
     "metadata": {
      "needs_background": "light"
     },
     "output_type": "display_data"
    }
   ],
   "source": [
    "plot_predictions(predictions, test_outputs)"
   ]
  },
  {
   "cell_type": "code",
   "execution_count": null,
   "id": "7d967123",
   "metadata": {},
   "outputs": [],
   "source": []
  }
 ],
 "metadata": {
  "kernelspec": {
   "display_name": "dl",
   "language": "python",
   "name": "dl"
  },
  "language_info": {
   "codemirror_mode": {
    "name": "ipython",
    "version": 3
   },
   "file_extension": ".py",
   "mimetype": "text/x-python",
   "name": "python",
   "nbconvert_exporter": "python",
   "pygments_lexer": "ipython3",
   "version": "3.8.5"
  }
 },
 "nbformat": 4,
 "nbformat_minor": 5
}
