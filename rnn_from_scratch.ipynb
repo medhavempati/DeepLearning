{
 "cells": [
  {
   "cell_type": "code",
   "execution_count": 32,
   "id": "6d2f1e55",
   "metadata": {},
   "outputs": [],
   "source": [
    "import numpy as np\n",
    "from collections import defaultdict\n",
    "from torch.utils import data"
   ]
  },
  {
   "cell_type": "code",
   "execution_count": 5,
   "id": "8be551b2",
   "metadata": {},
   "outputs": [],
   "source": [
    "# Generate Dataset\n",
    "np.random.seed(42)"
   ]
  },
  {
   "cell_type": "code",
   "execution_count": 13,
   "id": "5a414a6a",
   "metadata": {},
   "outputs": [],
   "source": [
    "def generate_dataset(num_sequences=2**8):\n",
    "    sequences = []\n",
    "    for _ in range(num_sequences):\n",
    "        token_length = np.random.randint(1, 12)\n",
    "        sequence = f'{\"a\"*token_length}{\"b\"*token_length}EOS'\n",
    "        sequences.append(sequence)\n",
    "        \n",
    "    return sequences"
   ]
  },
  {
   "cell_type": "code",
   "execution_count": 30,
   "id": "bd6fbc55",
   "metadata": {},
   "outputs": [],
   "source": [
    "def word_encoding(sequences):\n",
    "    \n",
    "    # Get 1D list of all words in all sequences\n",
    "    flatten = lambda l: [item for sublist in l for item in sublist]\n",
    "    all_words = flatten(sequences)\n",
    "    \n",
    "    # Create dictionary mapping word to word frequency across all sequences\n",
    "    word_to_count = defaultdict(int)\n",
    "    for word in all_words:\n",
    "        word_to_count[word] += 1\n",
    "    word_to_count = sorted(list(word_to_count.items()), key=lambda l: -l[1]) # sorting according to frequency\n",
    "    \n",
    "    # List of unique words\n",
    "    dictionary = [item[0] for item in word_to_count]\n",
    "    dictionary.append('UNK')\n",
    "    \n",
    "    # Calculate lengths\n",
    "    num_sequences = len(sequences)\n",
    "    vocab_size = len(dictionary)\n",
    "    \n",
    "    # Make word to index and index to word mappings\n",
    "    word_to_idx = defaultdict(lambda: vocab_size-1)\n",
    "    idx_to_word = defaultdict(lambda: 'UNK')\n",
    "    for idx, word in enumerate(dictionary):\n",
    "        word_to_idx[word] = idx\n",
    "        idx_to_word[idx] = word\n",
    "    \n",
    "    return word_to_idx, idx_to_word, vocab_size"
   ]
  },
  {
   "cell_type": "code",
   "execution_count": 33,
   "id": "44715791",
   "metadata": {},
   "outputs": [],
   "source": [
    "class Dataset(data.Dataset):\n",
    "    def __init__(self, inputs, targets):\n",
    "        self.X = inputs\n",
    "        self.y = targets\n",
    "\n",
    "    def __len__(self):\n",
    "        return len(self.X)\n",
    "\n",
    "    def __getitem__(self, index):\n",
    "        return self.X[index], self.y[index]"
   ]
  },
  {
   "cell_type": "code",
   "execution_count": 34,
   "id": "8f4dc12c",
   "metadata": {},
   "outputs": [],
   "source": [
    "def prepare_data(sequences, train_size=0.8, test_size=0.1, val_size=0.1):\n",
    "    \n",
    "    # Split data\n",
    "    num_train = int(train_size*len(sequences))\n",
    "    num_test = int(test_size*len(sequences))\n",
    "    num_val = int(val_size*len(sequences))\n",
    "    \n",
    "    train_seq = sequences[:num_train]\n",
    "    test_seq = sequences[num_train:num_train+num_test]\n",
    "    val_seq = sequences[-num_val:]\n",
    "    \n",
    "    # prepare input & target sequences\n",
    "    def prepare_sequences(sequences):\n",
    "        inputs = []\n",
    "        targets = []\n",
    "        \n",
    "        for sequence in sequences:\n",
    "            inputs.append(sequence[:-1])\n",
    "            targets.append(sequence[1:])\n",
    "        \n",
    "        return inputs, targets\n",
    "    \n",
    "    train_inputs, train_targets = prepare_sequences(train_seq)\n",
    "    test_inputs, test_targets = prepare_sequences(test_seq)\n",
    "    val_inputs, val_targets = prepare_sequences(val_seq)\n",
    "    \n",
    "    # create datasets\n",
    "    train_set = Dataset(train_inputs, train_targets)\n",
    "    test_set = Dataset(test_inputs, test_targets)\n",
    "    val_set = Dataset(val_inputs, val_targets)\n",
    "    \n",
    "    return train_set, test_set, val_set"
   ]
  },
  {
   "cell_type": "code",
   "execution_count": null,
   "id": "de3c620d",
   "metadata": {},
   "outputs": [],
   "source": []
  }
 ],
 "metadata": {
  "kernelspec": {
   "display_name": "dl",
   "language": "python",
   "name": "dl"
  },
  "language_info": {
   "codemirror_mode": {
    "name": "ipython",
    "version": 3
   },
   "file_extension": ".py",
   "mimetype": "text/x-python",
   "name": "python",
   "nbconvert_exporter": "python",
   "pygments_lexer": "ipython3",
   "version": "3.8.5"
  }
 },
 "nbformat": 4,
 "nbformat_minor": 5
}
