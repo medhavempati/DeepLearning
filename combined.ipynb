{
 "cells": [
  {
   "cell_type": "code",
   "execution_count": 1,
   "id": "96d74aac",
   "metadata": {},
   "outputs": [],
   "source": [
    "import import_ipynb"
   ]
  },
  {
   "cell_type": "code",
   "execution_count": 18,
   "id": "bd0c183c",
   "metadata": {},
   "outputs": [],
   "source": [
    "import rnn_from_scratch as scratch\n",
    "import stock_price_predictor as spp"
   ]
  },
  {
   "cell_type": "code",
   "execution_count": 6,
   "id": "db675e36",
   "metadata": {},
   "outputs": [
    {
     "name": "stdout",
     "output_type": "stream",
     "text": [
      "test\n"
     ]
    }
   ],
   "source": [
    "scratch.lstm_modified()"
   ]
  },
  {
   "cell_type": "code",
   "execution_count": 10,
   "id": "91ee7e3c",
   "metadata": {},
   "outputs": [
    {
     "name": "stdout",
     "output_type": "stream",
     "text": [
      "10y\n"
     ]
    }
   ],
   "source": [
    "data = spp.get_ticker_data('GOOGL', 10)"
   ]
  },
  {
   "cell_type": "code",
   "execution_count": 11,
   "id": "b1ccb26f",
   "metadata": {},
   "outputs": [
    {
     "data": {
      "text/html": [
       "<div>\n",
       "<style scoped>\n",
       "    .dataframe tbody tr th:only-of-type {\n",
       "        vertical-align: middle;\n",
       "    }\n",
       "\n",
       "    .dataframe tbody tr th {\n",
       "        vertical-align: top;\n",
       "    }\n",
       "\n",
       "    .dataframe thead th {\n",
       "        text-align: right;\n",
       "    }\n",
       "</style>\n",
       "<table border=\"1\" class=\"dataframe\">\n",
       "  <thead>\n",
       "    <tr style=\"text-align: right;\">\n",
       "      <th></th>\n",
       "      <th>Open</th>\n",
       "      <th>High</th>\n",
       "      <th>Low</th>\n",
       "      <th>Close</th>\n",
       "      <th>Volume</th>\n",
       "      <th>Dividends</th>\n",
       "      <th>Stock Splits</th>\n",
       "    </tr>\n",
       "    <tr>\n",
       "      <th>Date</th>\n",
       "      <th></th>\n",
       "      <th></th>\n",
       "      <th></th>\n",
       "      <th></th>\n",
       "      <th></th>\n",
       "      <th></th>\n",
       "      <th></th>\n",
       "    </tr>\n",
       "  </thead>\n",
       "  <tbody>\n",
       "    <tr>\n",
       "      <th>2012-02-10</th>\n",
       "      <td>304.244232</td>\n",
       "      <td>304.369354</td>\n",
       "      <td>302.302307</td>\n",
       "      <td>303.258270</td>\n",
       "      <td>4645750</td>\n",
       "      <td>0</td>\n",
       "      <td>0.0</td>\n",
       "    </tr>\n",
       "    <tr>\n",
       "      <th>2012-02-13</th>\n",
       "      <td>305.555542</td>\n",
       "      <td>307.227234</td>\n",
       "      <td>305.315308</td>\n",
       "      <td>306.406403</td>\n",
       "      <td>3628967</td>\n",
       "      <td>0</td>\n",
       "      <td>0.0</td>\n",
       "    </tr>\n",
       "    <tr>\n",
       "      <th>2012-02-14</th>\n",
       "      <td>306.076080</td>\n",
       "      <td>306.306305</td>\n",
       "      <td>302.682678</td>\n",
       "      <td>305.185181</td>\n",
       "      <td>3603793</td>\n",
       "      <td>0</td>\n",
       "      <td>0.0</td>\n",
       "    </tr>\n",
       "    <tr>\n",
       "      <th>2012-02-15</th>\n",
       "      <td>306.771759</td>\n",
       "      <td>306.771759</td>\n",
       "      <td>301.581573</td>\n",
       "      <td>303.083069</td>\n",
       "      <td>4846948</td>\n",
       "      <td>0</td>\n",
       "      <td>0.0</td>\n",
       "    </tr>\n",
       "    <tr>\n",
       "      <th>2012-02-16</th>\n",
       "      <td>301.711700</td>\n",
       "      <td>304.709717</td>\n",
       "      <td>299.164154</td>\n",
       "      <td>303.563568</td>\n",
       "      <td>5056738</td>\n",
       "      <td>0</td>\n",
       "      <td>0.0</td>\n",
       "    </tr>\n",
       "    <tr>\n",
       "      <th>...</th>\n",
       "      <td>...</td>\n",
       "      <td>...</td>\n",
       "      <td>...</td>\n",
       "      <td>...</td>\n",
       "      <td>...</td>\n",
       "      <td>...</td>\n",
       "      <td>...</td>\n",
       "    </tr>\n",
       "    <tr>\n",
       "      <th>2022-02-03</th>\n",
       "      <td>2914.110107</td>\n",
       "      <td>2993.500000</td>\n",
       "      <td>2853.310059</td>\n",
       "      <td>2861.800049</td>\n",
       "      <td>3575900</td>\n",
       "      <td>0</td>\n",
       "      <td>0.0</td>\n",
       "    </tr>\n",
       "    <tr>\n",
       "      <th>2022-02-04</th>\n",
       "      <td>2868.889893</td>\n",
       "      <td>2897.500000</td>\n",
       "      <td>2810.300049</td>\n",
       "      <td>2865.860107</td>\n",
       "      <td>2897200</td>\n",
       "      <td>0</td>\n",
       "      <td>0.0</td>\n",
       "    </tr>\n",
       "    <tr>\n",
       "      <th>2022-02-07</th>\n",
       "      <td>2885.000000</td>\n",
       "      <td>2885.000000</td>\n",
       "      <td>2778.000000</td>\n",
       "      <td>2784.020020</td>\n",
       "      <td>2748700</td>\n",
       "      <td>0</td>\n",
       "      <td>0.0</td>\n",
       "    </tr>\n",
       "    <tr>\n",
       "      <th>2022-02-08</th>\n",
       "      <td>2780.530029</td>\n",
       "      <td>2800.000000</td>\n",
       "      <td>2740.280029</td>\n",
       "      <td>2787.979980</td>\n",
       "      <td>2714200</td>\n",
       "      <td>0</td>\n",
       "      <td>0.0</td>\n",
       "    </tr>\n",
       "    <tr>\n",
       "      <th>2022-02-09</th>\n",
       "      <td>2819.270020</td>\n",
       "      <td>2850.489990</td>\n",
       "      <td>2803.739990</td>\n",
       "      <td>2831.840088</td>\n",
       "      <td>2005200</td>\n",
       "      <td>0</td>\n",
       "      <td>0.0</td>\n",
       "    </tr>\n",
       "  </tbody>\n",
       "</table>\n",
       "<p>2517 rows × 7 columns</p>\n",
       "</div>"
      ],
      "text/plain": [
       "                   Open         High          Low        Close   Volume  \\\n",
       "Date                                                                      \n",
       "2012-02-10   304.244232   304.369354   302.302307   303.258270  4645750   \n",
       "2012-02-13   305.555542   307.227234   305.315308   306.406403  3628967   \n",
       "2012-02-14   306.076080   306.306305   302.682678   305.185181  3603793   \n",
       "2012-02-15   306.771759   306.771759   301.581573   303.083069  4846948   \n",
       "2012-02-16   301.711700   304.709717   299.164154   303.563568  5056738   \n",
       "...                 ...          ...          ...          ...      ...   \n",
       "2022-02-03  2914.110107  2993.500000  2853.310059  2861.800049  3575900   \n",
       "2022-02-04  2868.889893  2897.500000  2810.300049  2865.860107  2897200   \n",
       "2022-02-07  2885.000000  2885.000000  2778.000000  2784.020020  2748700   \n",
       "2022-02-08  2780.530029  2800.000000  2740.280029  2787.979980  2714200   \n",
       "2022-02-09  2819.270020  2850.489990  2803.739990  2831.840088  2005200   \n",
       "\n",
       "            Dividends  Stock Splits  \n",
       "Date                                 \n",
       "2012-02-10          0           0.0  \n",
       "2012-02-13          0           0.0  \n",
       "2012-02-14          0           0.0  \n",
       "2012-02-15          0           0.0  \n",
       "2012-02-16          0           0.0  \n",
       "...               ...           ...  \n",
       "2022-02-03          0           0.0  \n",
       "2022-02-04          0           0.0  \n",
       "2022-02-07          0           0.0  \n",
       "2022-02-08          0           0.0  \n",
       "2022-02-09          0           0.0  \n",
       "\n",
       "[2517 rows x 7 columns]"
      ]
     },
     "execution_count": 11,
     "metadata": {},
     "output_type": "execute_result"
    }
   ],
   "source": [
    "data"
   ]
  },
  {
   "cell_type": "code",
   "execution_count": 12,
   "id": "ccb073d4",
   "metadata": {},
   "outputs": [],
   "source": [
    "data = spp.clean_data(data)\n",
    "data = spp.normalize_data(data, ['Open', 'High', 'Low', 'Close', 'Volume'])\n",
    "\n",
    "X, y = spp.prepare_sets(data)\n",
    "train_in, train_out, test_in, test_out = spp.split_data(X, y)\n",
    "\n",
    "X_train, y_train = spp.prepare_sequences(train_in, train_out)\n",
    "X_test, y_test = spp.prepare_sequences(test_in, test_out)"
   ]
  },
  {
   "cell_type": "code",
   "execution_count": 14,
   "id": "9fcf3d8f",
   "metadata": {},
   "outputs": [
    {
     "name": "stdout",
     "output_type": "stream",
     "text": [
      "1912, 503\n",
      "(1912, 50, 4), (1912, 1), (503, 50, 4), (1912, 1)\n"
     ]
    }
   ],
   "source": [
    "print(f'{len(X_train)}, {len(X_test)}')\n",
    "print(f'{X_train.shape}, {y_train.shape}, {X_test.shape}, {y_train.shape}')"
   ]
  },
  {
   "cell_type": "code",
   "execution_count": 16,
   "id": "c1362c18",
   "metadata": {},
   "outputs": [
    {
     "ename": "NameError",
     "evalue": "name 'LSTM' is not defined",
     "output_type": "error",
     "traceback": [
      "\u001b[0;31m---------------------------------------------------------------------------\u001b[0m",
      "\u001b[0;31mNameError\u001b[0m                                 Traceback (most recent call last)",
      "\u001b[0;32m/tmp/ipykernel_130263/3989637898.py\u001b[0m in \u001b[0;36m<module>\u001b[0;34m\u001b[0m\n\u001b[0;32m----> 1\u001b[0;31m \u001b[0mlstm\u001b[0m \u001b[0;34m=\u001b[0m \u001b[0mLSTM\u001b[0m\u001b[0;34m(\u001b[0m\u001b[0;34m)\u001b[0m\u001b[0;34m\u001b[0m\u001b[0;34m\u001b[0m\u001b[0m\n\u001b[0m",
      "\u001b[0;31mNameError\u001b[0m: name 'LSTM' is not defined"
     ]
    }
   ],
   "source": [
    "class LSTM():\n",
    "    def __init__(self, vocab_size, hidden_size=50):\n",
    "        self.vocab_size = vocab_size\n",
    "        self.hidden_size = hidden_size\n",
    "        self.z_size = hidden_size + vocab_size\n",
    "        self.parameters = []\n",
    "        self.training_loss = []\n",
    "        self.validation_loss = []\n",
    "        \n",
    "    def initialize(self):\n",
    "        self.parameters = scratch.init_lstm(self.hidden_size, self.vocab_size)\n",
    "        \n",
    "    def train(self, train_set, epochs=20):\n",
    "        self.training_loss, self.parameters = scratch.train_lstm(train_set, self.parameters, self.hidden_size, epochs)\n",
    "        \n",
    "    def validate(self, val_set, epochs):\n",
    "        self.validation_loss = scratch.validate_lstm(val_set, self.parameters, self.hidden_size, epochs)\n",
    "        \n",
    "    def test(self, test_set, idx_to_word=None):\n",
    "        results = test_lstm(test_set, self.parameters, self.hidden_size, idx_to_word)\n",
    "        return results"
   ]
  },
  {
   "cell_type": "code",
   "execution_count": null,
   "id": "251aa9f0",
   "metadata": {},
   "outputs": [],
   "source": []
  }
 ],
 "metadata": {
  "kernelspec": {
   "display_name": "dl",
   "language": "python",
   "name": "dl"
  },
  "language_info": {
   "codemirror_mode": {
    "name": "ipython",
    "version": 3
   },
   "file_extension": ".py",
   "mimetype": "text/x-python",
   "name": "python",
   "nbconvert_exporter": "python",
   "pygments_lexer": "ipython3",
   "version": "3.8.5"
  }
 },
 "nbformat": 4,
 "nbformat_minor": 5
}
