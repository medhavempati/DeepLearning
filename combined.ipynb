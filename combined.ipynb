{
 "cells": [
  {
   "cell_type": "code",
   "execution_count": 161,
   "id": "c5023a4a",
   "metadata": {},
   "outputs": [],
   "source": [
    "import import_ipynb"
   ]
  },
  {
   "cell_type": "code",
   "execution_count": 162,
   "id": "5bcf3b48",
   "metadata": {},
   "outputs": [],
   "source": [
    "import rnn_from_scratch as scratch\n",
    "import stock_price_predictor as spp"
   ]
  },
  {
   "cell_type": "code",
   "execution_count": 163,
   "id": "62f4fc98",
   "metadata": {},
   "outputs": [],
   "source": [
    "def make_sequences(data, sequence_length=50, prediction_period=1):\n",
    "    x, y = [], []\n",
    "    for i in range((len(data) - sequence_length - prediction_period)):\n",
    "        x.append(data[i:i+sequence_length])\n",
    "        y.append(data[i+sequence_length: i+sequence_length+prediction_period])\n",
    "    return x, y"
   ]
  },
  {
   "cell_type": "code",
   "execution_count": 164,
   "id": "7c7f617b",
   "metadata": {},
   "outputs": [],
   "source": [
    "def split_sequences(x, y, test_size=0.2):\n",
    "    test_data_cut = int(test_size * len(x))\n",
    "    X_train = x[:-test_data_cut]\n",
    "    y_train = y[:-test_data_cut]\n",
    "    \n",
    "    X_test = x[-test_data_cut:]\n",
    "    y_test = y[-test_data_cut:]\n",
    "    \n",
    "    return np.asarray(X_train), np.asarray(y_train), np.asarray(X_test), np.asarray(y_test)"
   ]
  },
  {
   "cell_type": "code",
   "execution_count": 165,
   "id": "d2920087",
   "metadata": {},
   "outputs": [],
   "source": [
    "def reshape(data):\n",
    "    new = []\n",
    "    for row in data:\n",
    "        new_row = np.reshape(row, (5,1))\n",
    "        new.append(new_row)\n",
    "    return new\n",
    "        "
   ]
  },
  {
   "cell_type": "code",
   "execution_count": 166,
   "id": "2976717a",
   "metadata": {},
   "outputs": [],
   "source": [
    "def prepare_data(data):\n",
    "    \n",
    "    # Clean \n",
    "    data = spp.clean_data(data)\n",
    "    data = spp.normalize_data(data, ['Open', 'High', 'Low', 'Close', 'Volume'])\n",
    "    \n",
    "    # Reshape \n",
    "    data = data.to_numpy()\n",
    "    data = reshape(data)\n",
    "    X, y = make_sequences(data)\n",
    "    X_train, y_train, X_test, y_test = split_sequences(X, y)\n",
    "    \n",
    "    return X_train, y_train, X_test, y_test"
   ]
  },
  {
   "cell_type": "code",
   "execution_count": 170,
   "id": "325a1aed",
   "metadata": {},
   "outputs": [],
   "source": [
    "class LSTM():\n",
    "    def __init__(self, n_features, hidden_size=50):\n",
    "        self.n_features = n_features\n",
    "        self.hidden_size = hidden_size\n",
    "        self.z_size = hidden_size + vocab_size\n",
    "        self.parameters = []\n",
    "        self.training_loss = []\n",
    "        self.validation_loss = []\n",
    "        \n",
    "    def initialize(self):\n",
    "        self.parameters = scratch.init_lstm(self.hidden_size, self.n_features)\n",
    "        \n",
    "    def train(self, train_set, epochs=20, activation='linear'):\n",
    "        self.training_loss, self.parameters = scratch.train_lstm(train_set, self.parameters, self.hidden_size, epochs, activation)\n",
    "        \n",
    "    def validate(self, val_set, epochs):\n",
    "        self.validation_loss = scratch.validate_lstm(val_set, self.parameters, self.hidden_size, epochs, activation)\n",
    "        \n",
    "    def test(self, test_set, idx_to_word=None):\n",
    "        results = scratch.test_lstm(test_set, self.parameters, self.hidden_size, idx_to_word, activation)\n",
    "        return results"
   ]
  },
  {
   "cell_type": "code",
   "execution_count": 171,
   "id": "1f418bbc",
   "metadata": {},
   "outputs": [],
   "source": [
    "def main():\n",
    "    data = spp.get_ticker_data('GOOGL', 10)\n",
    "    X_train, y_train, X_test, y_test = prepare_data(data)\n",
    "    \n",
    "    lstm = LSTM(X_train.shape[-2])\n",
    "    lstm.initialize()\n",
    "    lstm.train((X_train, y_train))\n",
    "#     results = lstm.test(test_set)\n",
    "#     return results"
   ]
  },
  {
   "cell_type": "code",
   "execution_count": 173,
   "id": "b7eec34b",
   "metadata": {},
   "outputs": [],
   "source": [
    "# main()"
   ]
  },
  {
   "cell_type": "code",
   "execution_count": null,
   "id": "c9b3124f",
   "metadata": {},
   "outputs": [],
   "source": []
  },
  {
   "cell_type": "code",
   "execution_count": 144,
   "id": "3be09384",
   "metadata": {},
   "outputs": [
    {
     "data": {
      "text/plain": [
       "(1973, 50, 5, 1)"
      ]
     },
     "execution_count": 144,
     "metadata": {},
     "output_type": "execute_result"
    }
   ],
   "source": [
    "X_train.shape"
   ]
  },
  {
   "cell_type": "code",
   "execution_count": 145,
   "id": "f1686076",
   "metadata": {},
   "outputs": [
    {
     "data": {
      "text/plain": [
       "array([[0.00914726],\n",
       "       [0.00898152],\n",
       "       [0.00991937],\n",
       "       [0.00979092],\n",
       "       [0.1296764 ]])"
      ]
     },
     "execution_count": 145,
     "metadata": {},
     "output_type": "execute_result"
    }
   ],
   "source": [
    "X_train[0][0]"
   ]
  },
  {
   "cell_type": "code",
   "execution_count": 135,
   "id": "fb0fafae",
   "metadata": {},
   "outputs": [
    {
     "data": {
      "text/plain": [
       "[[0.00914725785970507],\n",
       " [0.008981518570271333],\n",
       " [0.009919372041676599],\n",
       " [0.009790921473727881],\n",
       " [0.1296764020633496]]"
      ]
     },
     "execution_count": 135,
     "metadata": {},
     "output_type": "execute_result"
    }
   ],
   "source": [
    "test = X_train[0][0]\n",
    "new = []\n",
    "for val in test:\n",
    "    new.append([val])\n",
    "\n",
    "new"
   ]
  },
  {
   "cell_type": "code",
   "execution_count": 83,
   "id": "5321da1a",
   "metadata": {},
   "outputs": [],
   "source": [
    "# Attention"
   ]
  },
  {
   "cell_type": "code",
   "execution_count": 36,
   "id": "c964e945",
   "metadata": {},
   "outputs": [],
   "source": [
    "from pandas import read_csv\n",
    "import numpy as np\n",
    "from keras import Model\n",
    "from keras.layers import Layer\n",
    "import keras.backend as K\n",
    "from keras.layers import Input, Dense, SimpleRNN\n",
    "from sklearn.preprocessing import MinMaxScaler\n",
    "from keras.models import Sequential\n",
    "from keras.metrics import mean_squared_error"
   ]
  },
  {
   "cell_type": "code",
   "execution_count": 37,
   "id": "96e71184",
   "metadata": {},
   "outputs": [],
   "source": [
    "class attention(Layer):\n",
    "    def __init__(self,**kwargs):\n",
    "        super(attention,self).__init__(**kwargs)\n",
    "\n",
    "    def build(self,input_shape):\n",
    "        self.W=self.add_weight(name=\"att_weight\",shape=(input_shape[-1],1),initializer=\"normal\")\n",
    "        self.b=self.add_weight(name=\"att_bias\",shape=(input_shape[1],1),initializer=\"zeros\")        \n",
    "        super(attention, self).build(input_shape)\n",
    "\n",
    "    def show(self):\n",
    "        print(self.W)\n",
    "        print(self.b)"
   ]
  },
  {
   "cell_type": "code",
   "execution_count": 38,
   "id": "96ba2d77",
   "metadata": {},
   "outputs": [],
   "source": [
    "test = attention()"
   ]
  },
  {
   "cell_type": "code",
   "execution_count": 40,
   "id": "4611aacb",
   "metadata": {},
   "outputs": [],
   "source": [
    "test.build([50, 4])"
   ]
  },
  {
   "cell_type": "code",
   "execution_count": 41,
   "id": "9761881c",
   "metadata": {},
   "outputs": [
    {
     "name": "stdout",
     "output_type": "stream",
     "text": [
      "<tf.Variable 'att_weight:0' shape=(4, 1) dtype=float32, numpy=\n",
      "array([[ 0.09407338],\n",
      "       [ 0.04555698],\n",
      "       [ 0.0531346 ],\n",
      "       [-0.04047551]], dtype=float32)>\n",
      "<tf.Variable 'att_bias:0' shape=(4, 1) dtype=float32, numpy=\n",
      "array([[0.],\n",
      "       [0.],\n",
      "       [0.],\n",
      "       [0.]], dtype=float32)>\n"
     ]
    }
   ],
   "source": [
    "test.show()"
   ]
  }
 ],
 "metadata": {
  "kernelspec": {
   "display_name": "dl",
   "language": "python",
   "name": "dl"
  },
  "language_info": {
   "codemirror_mode": {
    "name": "ipython",
    "version": 3
   },
   "file_extension": ".py",
   "mimetype": "text/x-python",
   "name": "python",
   "nbconvert_exporter": "python",
   "pygments_lexer": "ipython3",
   "version": "3.8.5"
  }
 },
 "nbformat": 4,
 "nbformat_minor": 5
}
